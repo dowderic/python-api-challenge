{
 "cells": [
  {
   "cell_type": "markdown",
   "metadata": {},
   "source": [
    "# WeatherPy\n",
    "----\n",
    "\n",
    "#### Note\n",
    "* Instructions have been included for each segment. You do not have to follow them exactly, but they are included to help you think through the steps."
   ]
  },
  {
   "cell_type": "code",
   "execution_count": 1,
   "metadata": {
    "scrolled": true
   },
   "outputs": [],
   "source": [
    "# Dependencies and Setup\n",
    "import matplotlib.pyplot as plt\n",
    "import pandas as pd\n",
    "import numpy as np\n",
    "import requests\n",
    "import time\n",
    "from scipy.stats import linregress\n",
    "\n",
    "# Import API key\n",
    "from api_keys import weather_api_key\n",
    "\n",
    "# Incorporated citipy to determine city based on latitude and longitude\n",
    "from citipy import citipy\n",
    "\n",
    "# Output File (CSV)\n",
    "output_data_file = \"output_data/cities.csv\"\n",
    "\n",
    "# Range of latitudes and longitudes\n",
    "lat_range = (-90, 90)\n",
    "lng_range = (-180, 180)"
   ]
  },
  {
   "cell_type": "markdown",
   "metadata": {},
   "source": [
    "## Generate Cities List"
   ]
  },
  {
   "cell_type": "code",
   "execution_count": 2,
   "metadata": {},
   "outputs": [
    {
     "data": {
      "text/plain": [
       "609"
      ]
     },
     "execution_count": 2,
     "metadata": {},
     "output_type": "execute_result"
    }
   ],
   "source": [
    "# List for holding lat_lngs and cities\n",
    "lat_lngs = []\n",
    "cities = []\n",
    "\n",
    "# Create a set of random lat and lng combinations\n",
    "lats = np.random.uniform(lat_range[0], lat_range[1], size=1500)\n",
    "lngs = np.random.uniform(lng_range[0], lng_range[1], size=1500)\n",
    "lat_lngs = zip(lats, lngs)\n",
    "\n",
    "# Identify nearest city for each lat, lng combination\n",
    "for lat_lng in lat_lngs:\n",
    "    city = citipy.nearest_city(lat_lng[0], lat_lng[1]).city_name\n",
    "    \n",
    "    # If the city is unique, then add it to a our cities list\n",
    "    if city not in cities:\n",
    "        cities.append(city)\n",
    "\n",
    "# Print the city count to confirm sufficient count\n",
    "len(cities)"
   ]
  },
  {
   "cell_type": "markdown",
   "metadata": {},
   "source": [
    "### Perform API Calls\n",
    "* Perform a weather check on each city using a series of successive API calls.\n",
    "* Include a print log of each city as it'sbeing processed (with the city number and city name).\n"
   ]
  },
  {
   "cell_type": "code",
   "execution_count": null,
   "metadata": {
    "scrolled": true
   },
   "outputs": [
    {
     "name": "stdout",
     "output_type": "stream",
     "text": [
      "Beginning Data Retrieval     \n",
      "-----------------------------\n",
      "Processing Record 1 of Set 1 | kalmunai\n",
      "Processing Record 2 of Set 1 | asau\n",
      "Processing Record 3 of Set 1 | faanui\n",
      "Processing Record 4 of Set 1 | jamestown\n",
      "Processing Record 5 of Set 1 | hermanus\n",
      "Processing Record 6 of Set 1 | cape town\n",
      "Processing Record 7 of Set 1 | thompson\n",
      "Processing Record 8 of Set 1 | wuda\n",
      "Processing Record 9 of Set 1 | san patricio\n",
      "Processing Record 10 of Set 1 | ribeira grande\n",
      "Processing Record 11 of Set 1 | sitka\n",
      "Processing Record 12 of Set 1 | tuktoyaktuk\n",
      "Processing Record 13 of Set 1 | busselton\n",
      "Processing Record 14 of Set 1 | khatanga\n",
      "Processing Record 15 of Set 1 | awbari\n",
      "Processing Record 16 of Set 1 | matara\n",
      "Processing Record 17 of Set 1 | saskylakh\n",
      "Processing Record 18 of Set 1 | leh\n",
      "Processing Record 19 of Set 1 | vila do maio\n",
      "Processing Record 20 of Set 1 | zavodouspenskoye\n",
      "Processing Record 21 of Set 1 | borbon\n",
      "Processing Record 22 of Set 1 | luganville\n",
      "Processing Record 23 of Set 1 | constitucion\n",
      "Processing Record 24 of Set 1 | komsomolskiy\n",
      "Processing Record 25 of Set 1 | east london\n",
      "Processing Record 26 of Set 1 | victoria\n",
      "Processing Record 27 of Set 1 | yulara\n",
      "Processing Record 28 of Set 1 | barbar\n",
      "City not found. Skipping...\n",
      "Processing Record 29 of Set 1 | sao filipe\n",
      "Processing Record 30 of Set 1 | rikitea\n",
      "Processing Record 31 of Set 1 | key largo\n",
      "Processing Record 32 of Set 1 | ostrovnoy\n",
      "Processing Record 33 of Set 1 | qaanaaq\n",
      "Processing Record 34 of Set 1 | povenets\n",
      "Processing Record 35 of Set 1 | vaini\n",
      "Processing Record 36 of Set 1 | ambon\n",
      "Processing Record 37 of Set 1 | new norfolk\n",
      "Processing Record 38 of Set 1 | bourail\n",
      "Processing Record 39 of Set 1 | volosovo\n",
      "Processing Record 40 of Set 1 | sapa\n",
      "Processing Record 41 of Set 1 | conde\n",
      "Processing Record 42 of Set 1 | margate\n",
      "Processing Record 43 of Set 1 | maningrida\n",
      "Processing Record 44 of Set 1 | saint-philippe\n",
      "Processing Record 45 of Set 1 | hithadhoo\n",
      "Processing Record 46 of Set 1 | port alfred\n",
      "Processing Record 47 of Set 1 | salina cruz\n",
      "Processing Record 48 of Set 1 | atuona\n",
      "Processing Record 49 of Set 1 | upernavik\n",
      "Processing Record 50 of Set 1 | casablanca\n",
      "Processing Record 0 of Set 2 | pevek\n",
      "Processing Record 1 of Set 2 | walla walla\n",
      "Processing Record 2 of Set 2 | grand river south east\n",
      "City not found. Skipping...\n",
      "Processing Record 3 of Set 2 | bluff\n",
      "Processing Record 4 of Set 2 | barrow\n",
      "Processing Record 5 of Set 2 | kataysk\n",
      "Processing Record 6 of Set 2 | punta arenas\n",
      "Processing Record 7 of Set 2 | alotau\n",
      "City not found. Skipping...\n",
      "Processing Record 8 of Set 2 | flinders\n",
      "Processing Record 9 of Set 2 | takoradi\n",
      "Processing Record 10 of Set 2 | jiehu\n",
      "Processing Record 11 of Set 2 | castro\n",
      "Processing Record 12 of Set 2 | georgetown\n",
      "Processing Record 13 of Set 2 | kodiak\n",
      "Processing Record 14 of Set 2 | mataura\n",
      "Processing Record 15 of Set 2 | toliary\n",
      "City not found. Skipping...\n",
      "Processing Record 16 of Set 2 | ucluelet\n",
      "Processing Record 17 of Set 2 | palabuhanratu\n",
      "City not found. Skipping...\n",
      "Processing Record 18 of Set 2 | talnakh\n",
      "Processing Record 19 of Set 2 | trinidad\n",
      "Processing Record 20 of Set 2 | tura\n",
      "Processing Record 21 of Set 2 | yerbogachen\n",
      "Processing Record 22 of Set 2 | jesup\n",
      "Processing Record 23 of Set 2 | taolanaro\n",
      "City not found. Skipping...\n",
      "Processing Record 24 of Set 2 | illoqqortoormiut\n",
      "City not found. Skipping...\n",
      "Processing Record 25 of Set 2 | albany\n",
      "Processing Record 26 of Set 2 | senador guiomard\n",
      "Processing Record 27 of Set 2 | port lincoln\n",
      "Processing Record 28 of Set 2 | kandrian\n",
      "Processing Record 29 of Set 2 | montepuez\n",
      "Processing Record 30 of Set 2 | kapaa\n",
      "Processing Record 31 of Set 2 | bagarji\n",
      "Processing Record 32 of Set 2 | kruisfontein\n",
      "Processing Record 33 of Set 2 | honiara\n",
      "Processing Record 34 of Set 2 | kavaratti\n",
      "Processing Record 35 of Set 2 | bredasdorp\n",
      "Processing Record 36 of Set 2 | boysun\n",
      "Processing Record 37 of Set 2 | yellowknife\n",
      "Processing Record 38 of Set 2 | mahebourg\n",
      "Processing Record 39 of Set 2 | halalo\n",
      "City not found. Skipping...\n",
      "Processing Record 40 of Set 2 | tsihombe\n",
      "City not found. Skipping...\n",
      "Processing Record 41 of Set 2 | coquimbo\n",
      "Processing Record 42 of Set 2 | guerrero negro\n",
      "Processing Record 43 of Set 2 | avarua\n",
      "Processing Record 44 of Set 2 | korla\n",
      "Processing Record 45 of Set 2 | louisbourg\n",
      "City not found. Skipping...\n",
      "Processing Record 46 of Set 2 | vanimo\n",
      "Processing Record 47 of Set 2 | bethel\n",
      "Processing Record 48 of Set 2 | davila\n",
      "Processing Record 49 of Set 2 | ola\n",
      "Processing Record 0 of Set 3 | puerto ayora\n",
      "Processing Record 1 of Set 3 | chute-aux-outardes\n",
      "Processing Record 2 of Set 3 | amahai\n",
      "Processing Record 3 of Set 3 | vilcun\n",
      "Processing Record 4 of Set 3 | kerki\n",
      "City not found. Skipping...\n",
      "Processing Record 5 of Set 3 | srednekolymsk\n",
      "Processing Record 6 of Set 3 | tateyama\n",
      "Processing Record 7 of Set 3 | goderich\n",
      "Processing Record 8 of Set 3 | palauig\n",
      "Processing Record 9 of Set 3 | samusu\n",
      "City not found. Skipping...\n",
      "Processing Record 10 of Set 3 | tuatapere\n",
      "Processing Record 11 of Set 3 | gorontalo\n",
      "Processing Record 12 of Set 3 | kavieng\n",
      "Processing Record 13 of Set 3 | bonthe\n",
      "Processing Record 14 of Set 3 | tigil\n",
      "Processing Record 15 of Set 3 | tasiilaq\n",
      "Processing Record 16 of Set 3 | estelle\n",
      "Processing Record 17 of Set 3 | ancud\n",
      "Processing Record 18 of Set 3 | hilo\n",
      "Processing Record 19 of Set 3 | sovetskiy\n",
      "Processing Record 20 of Set 3 | port elizabeth\n",
      "Processing Record 21 of Set 3 | airai\n",
      "Processing Record 22 of Set 3 | katunino\n",
      "Processing Record 23 of Set 3 | westerland\n",
      "Processing Record 24 of Set 3 | acapulco\n",
      "Processing Record 25 of Set 3 | barroualie\n",
      "City not found. Skipping...\n",
      "Processing Record 26 of Set 3 | hobart\n",
      "Processing Record 27 of Set 3 | severo-kurilsk\n",
      "Processing Record 28 of Set 3 | nizhneyansk\n",
      "City not found. Skipping...\n",
      "Processing Record 29 of Set 3 | waingapu\n",
      "Processing Record 30 of Set 3 | vestmannaeyjar\n",
      "Processing Record 31 of Set 3 | qaqortoq\n",
      "Processing Record 32 of Set 3 | saldanha\n",
      "Processing Record 33 of Set 3 | sambava\n",
      "Processing Record 34 of Set 3 | riyadh\n",
      "Processing Record 35 of Set 3 | ushuaia\n",
      "Processing Record 36 of Set 3 | klaksvik\n",
      "Processing Record 37 of Set 3 | palora\n",
      "Processing Record 38 of Set 3 | elko\n",
      "Processing Record 39 of Set 3 | monterey\n",
      "Processing Record 40 of Set 3 | butaritari\n",
      "Processing Record 41 of Set 3 | chernyshkovskiy\n",
      "Processing Record 42 of Set 3 | chokurdakh\n",
      "Processing Record 43 of Set 3 | camacha\n",
      "Processing Record 44 of Set 3 | kaitangata\n",
      "Processing Record 45 of Set 3 | tumannyy\n",
      "City not found. Skipping...\n",
      "Processing Record 46 of Set 3 | kemijarvi\n",
      "Processing Record 47 of Set 3 | omurtag\n",
      "Processing Record 48 of Set 3 | nikolskoye\n",
      "Processing Record 49 of Set 3 | saint george\n",
      "Processing Record 0 of Set 4 | lorengau\n",
      "Processing Record 1 of Set 4 | pisco\n",
      "Processing Record 2 of Set 4 | tasbuget\n",
      "City not found. Skipping...\n",
      "Processing Record 3 of Set 4 | bandarbeyla\n",
      "Processing Record 4 of Set 4 | maarianhamina\n",
      "Processing Record 5 of Set 4 | san ramon\n",
      "Processing Record 6 of Set 4 | itarema\n",
      "Processing Record 7 of Set 4 | port augusta\n",
      "Processing Record 8 of Set 4 | qasigiannguit\n",
      "Processing Record 9 of Set 4 | puerto escondido\n",
      "Processing Record 10 of Set 4 | carnarvon\n",
      "Processing Record 11 of Set 4 | souillac\n",
      "Processing Record 12 of Set 4 | chuy\n",
      "Processing Record 13 of Set 4 | kamwenge\n",
      "Processing Record 14 of Set 4 | montecristo\n",
      "Processing Record 15 of Set 4 | dzhusaly\n",
      "City not found. Skipping...\n",
      "Processing Record 16 of Set 4 | cabo san lucas\n",
      "Processing Record 17 of Set 4 | sondershausen\n",
      "Processing Record 18 of Set 4 | coihaique\n",
      "Processing Record 19 of Set 4 | baryshivka\n",
      "Processing Record 20 of Set 4 | dikson\n",
      "Processing Record 21 of Set 4 | bengkulu\n",
      "Processing Record 22 of Set 4 | touros\n",
      "Processing Record 23 of Set 4 | fukue\n",
      "Processing Record 24 of Set 4 | pacific grove\n",
      "Processing Record 25 of Set 4 | hasaki\n",
      "Processing Record 26 of Set 4 | sobolevo\n",
      "Processing Record 27 of Set 4 | pathardi\n",
      "Processing Record 28 of Set 4 | tarudant\n",
      "City not found. Skipping...\n",
      "Processing Record 29 of Set 4 | doha\n",
      "Processing Record 30 of Set 4 | yaan\n",
      "Processing Record 31 of Set 4 | pitiquito\n",
      "Processing Record 32 of Set 4 | araouane\n",
      "Processing Record 33 of Set 4 | nome\n",
      "Processing Record 34 of Set 4 | belushya guba\n",
      "City not found. Skipping...\n",
      "Processing Record 35 of Set 4 | muli\n"
     ]
    },
    {
     "name": "stdout",
     "output_type": "stream",
     "text": [
      "Processing Record 36 of Set 4 | hambantota\n",
      "Processing Record 37 of Set 4 | gornyy\n",
      "Processing Record 38 of Set 4 | amderma\n",
      "City not found. Skipping...\n",
      "Processing Record 39 of Set 4 | myaundzha\n",
      "Processing Record 40 of Set 4 | ponta do sol\n",
      "Processing Record 41 of Set 4 | marzuq\n",
      "Processing Record 42 of Set 4 | aporawan\n",
      "City not found. Skipping...\n",
      "Processing Record 43 of Set 4 | solnechnyy\n",
      "Processing Record 44 of Set 4 | mwinilunga\n",
      "Processing Record 45 of Set 4 | esperance\n",
      "Processing Record 46 of Set 4 | torbay\n",
      "Processing Record 47 of Set 4 | ilulissat\n",
      "Processing Record 48 of Set 4 | bosaso\n",
      "Processing Record 49 of Set 4 | angoche\n",
      "Processing Record 0 of Set 5 | barentsburg\n",
      "City not found. Skipping...\n",
      "Processing Record 1 of Set 5 | konibodom\n",
      "Processing Record 2 of Set 5 | mosquera\n",
      "Processing Record 3 of Set 5 | makubetsu\n",
      "Processing Record 4 of Set 5 | burnie\n",
      "Processing Record 5 of Set 5 | cristalina\n",
      "Processing Record 6 of Set 5 | sao joao da barra\n",
      "Processing Record 7 of Set 5 | beringovskiy\n",
      "Processing Record 8 of Set 5 | samalaeulu\n",
      "City not found. Skipping...\n",
      "Processing Record 9 of Set 5 | ahipara\n",
      "Processing Record 10 of Set 5 | san juan\n",
      "Processing Record 11 of Set 5 | hammerfest\n",
      "Processing Record 12 of Set 5 | chihuahua\n",
      "Processing Record 13 of Set 5 | bud\n",
      "Processing Record 14 of Set 5 | konitsa\n",
      "Processing Record 15 of Set 5 | dagda\n",
      "Processing Record 16 of Set 5 | sasaram\n",
      "Processing Record 17 of Set 5 | nanortalik\n",
      "Processing Record 18 of Set 5 | bilibino\n",
      "Processing Record 19 of Set 5 | namibe\n",
      "Processing Record 20 of Set 5 | saint anthony\n",
      "Processing Record 21 of Set 5 | pemba\n",
      "Processing Record 22 of Set 5 | clyde river\n",
      "Processing Record 23 of Set 5 | necochea\n",
      "Processing Record 24 of Set 5 | lolua\n",
      "City not found. Skipping...\n",
      "Processing Record 25 of Set 5 | beloha\n",
      "Processing Record 26 of Set 5 | aksha\n",
      "Processing Record 27 of Set 5 | ginir\n",
      "Processing Record 28 of Set 5 | el paujil\n",
      "Processing Record 29 of Set 5 | rancagua\n",
      "Processing Record 30 of Set 5 | tiksi\n",
      "Processing Record 31 of Set 5 | arraial do cabo\n",
      "Processing Record 32 of Set 5 | say\n",
      "Processing Record 33 of Set 5 | mumford\n",
      "Processing Record 34 of Set 5 | bolungarvik\n",
      "City not found. Skipping...\n",
      "Processing Record 35 of Set 5 | sakakah\n"
     ]
    }
   ],
   "source": [
    "# Starting URL for Weather Map API Call\n",
    "url = \"http://api.openweathermap.org/data/2.5/weather?units=Imperial&APPID=\" + weather_api_key\n",
    "\n",
    "# List of city data\n",
    "city_data = []\n",
    "\n",
    "# Print to logger\n",
    "print(\"Beginning Data Retrieval     \")\n",
    "print(\"-----------------------------\")\n",
    "\n",
    "# Create counters\n",
    "record_count = 1\n",
    "set_count = 1\n",
    "\n",
    "# Loop through all the cities in our list\n",
    "for i, city in enumerate(cities):\n",
    "        \n",
    "    # Group cities in sets of 50 for logging purposes\n",
    "    if (i % 50 == 0 and i >= 50):\n",
    "        set_count += 1\n",
    "        record_count = 0\n",
    "\n",
    "    # Create endpoint URL with each city\n",
    "    city_url = url + \"&q=\" + city\n",
    "    \n",
    "    # Log the url, record, and set numbers\n",
    "    print(\"Processing Record %s of Set %s | %s\" % (record_count, set_count, city))\n",
    "\n",
    "    # Add 1 to the record count\n",
    "    record_count += 1\n",
    "\n",
    "    # Run an API request for each of the cities\n",
    "    try:\n",
    "        # Parse the JSON and retrieve data\n",
    "        city_weather = requests.get(city_url).json()\n",
    "\n",
    "        # Parse out the max temp, humidity, and cloudiness\n",
    "        city_lat = city_weather[\"coord\"][\"lat\"]\n",
    "        city_lng = city_weather[\"coord\"][\"lon\"]\n",
    "        city_max_temp = city_weather[\"main\"][\"temp_max\"]\n",
    "        city_humidity = city_weather[\"main\"][\"humidity\"]\n",
    "        city_clouds = city_weather[\"clouds\"][\"all\"]\n",
    "        city_wind = city_weather[\"wind\"][\"speed\"]\n",
    "        city_country = city_weather[\"sys\"][\"country\"]\n",
    "        city_date = city_weather[\"dt\"]\n",
    "\n",
    "        # Append the City information into city_data list\n",
    "        city_data.append({\"City\": city, \n",
    "                          \"Lat\": city_lat, \n",
    "                          \"Lng\": city_lng, \n",
    "                          \"Max Temp\": city_max_temp,\n",
    "                          \"Humidity\": city_humidity,\n",
    "                          \"Cloudiness\": city_clouds,\n",
    "                          \"Wind Speed\": city_wind,\n",
    "                          \"Country\": city_country,\n",
    "                          \"Date\": city_date})\n",
    "\n",
    "    # If an error is experienced, skip the city\n",
    "    except:\n",
    "        print(\"City not found. Skipping...\")\n",
    "        pass\n",
    "              \n",
    "# Indicate that Data Loading is complete \n",
    "print(\"-----------------------------\")\n",
    "print(\"Data Retrieval Complete      \")\n",
    "print(\"-----------------------------\")\n"
   ]
  },
  {
   "cell_type": "markdown",
   "metadata": {},
   "source": [
    "### Convert Raw Data to DataFrame\n",
    "* Export the city data into a .csv.\n",
    "* Display the DataFrame"
   ]
  },
  {
   "cell_type": "code",
   "execution_count": null,
   "metadata": {},
   "outputs": [],
   "source": [
    "city_data_pd = pd.DataFrame(city_data)\n",
    "\n",
    "city_data_pd.head()\n"
   ]
  },
  {
   "cell_type": "code",
   "execution_count": null,
   "metadata": {},
   "outputs": [],
   "source": []
  },
  {
   "cell_type": "markdown",
   "metadata": {},
   "source": [
    "## Inspect the data and remove the cities where the humidity > 100%.\n",
    "----\n",
    "Skip this step if there are no cities that have humidity > 100%. "
   ]
  },
  {
   "cell_type": "code",
   "execution_count": null,
   "metadata": {},
   "outputs": [],
   "source": []
  },
  {
   "cell_type": "code",
   "execution_count": null,
   "metadata": {},
   "outputs": [],
   "source": [
    "#  Get the indices of cities that have humidity over 100%.\n"
   ]
  },
  {
   "cell_type": "code",
   "execution_count": null,
   "metadata": {},
   "outputs": [],
   "source": [
    "# Make a new DataFrame equal to the city data to drop all humidity outliers by index.\n",
    "# Passing \"inplace=False\" will make a copy of the city_data DataFrame, which we call \"clean_city_data\".\n"
   ]
  },
  {
   "cell_type": "code",
   "execution_count": null,
   "metadata": {},
   "outputs": [],
   "source": [
    "\n"
   ]
  },
  {
   "cell_type": "markdown",
   "metadata": {},
   "source": [
    "## Plotting the Data\n",
    "* Use proper labeling of the plots using plot titles (including date of analysis) and axes labels.\n",
    "* Save the plotted figures as .pngs."
   ]
  },
  {
   "cell_type": "markdown",
   "metadata": {},
   "source": [
    "## Latitude vs. Temperature Plot"
   ]
  },
  {
   "cell_type": "code",
   "execution_count": null,
   "metadata": {
    "scrolled": true
   },
   "outputs": [],
   "source": []
  },
  {
   "cell_type": "markdown",
   "metadata": {},
   "source": [
    "## Latitude vs. Humidity Plot"
   ]
  },
  {
   "cell_type": "code",
   "execution_count": null,
   "metadata": {},
   "outputs": [],
   "source": []
  },
  {
   "cell_type": "markdown",
   "metadata": {},
   "source": [
    "## Latitude vs. Cloudiness Plot"
   ]
  },
  {
   "cell_type": "code",
   "execution_count": null,
   "metadata": {},
   "outputs": [],
   "source": []
  },
  {
   "cell_type": "markdown",
   "metadata": {},
   "source": [
    "## Latitude vs. Wind Speed Plot"
   ]
  },
  {
   "cell_type": "code",
   "execution_count": null,
   "metadata": {},
   "outputs": [],
   "source": []
  },
  {
   "cell_type": "markdown",
   "metadata": {},
   "source": [
    "## Linear Regression"
   ]
  },
  {
   "cell_type": "code",
   "execution_count": null,
   "metadata": {},
   "outputs": [],
   "source": []
  },
  {
   "cell_type": "markdown",
   "metadata": {},
   "source": [
    "####  Northern Hemisphere - Max Temp vs. Latitude Linear Regression"
   ]
  },
  {
   "cell_type": "code",
   "execution_count": null,
   "metadata": {},
   "outputs": [],
   "source": []
  },
  {
   "cell_type": "markdown",
   "metadata": {},
   "source": [
    "####  Southern Hemisphere - Max Temp vs. Latitude Linear Regression"
   ]
  },
  {
   "cell_type": "code",
   "execution_count": null,
   "metadata": {},
   "outputs": [],
   "source": []
  },
  {
   "cell_type": "markdown",
   "metadata": {},
   "source": [
    "####  Northern Hemisphere - Humidity (%) vs. Latitude Linear Regression"
   ]
  },
  {
   "cell_type": "code",
   "execution_count": null,
   "metadata": {},
   "outputs": [],
   "source": []
  },
  {
   "cell_type": "markdown",
   "metadata": {},
   "source": [
    "####  Southern Hemisphere - Humidity (%) vs. Latitude Linear Regression"
   ]
  },
  {
   "cell_type": "code",
   "execution_count": null,
   "metadata": {},
   "outputs": [],
   "source": []
  },
  {
   "cell_type": "markdown",
   "metadata": {},
   "source": [
    "####  Northern Hemisphere - Cloudiness (%) vs. Latitude Linear Regression"
   ]
  },
  {
   "cell_type": "code",
   "execution_count": null,
   "metadata": {},
   "outputs": [],
   "source": []
  },
  {
   "cell_type": "markdown",
   "metadata": {},
   "source": [
    "####  Southern Hemisphere - Cloudiness (%) vs. Latitude Linear Regression"
   ]
  },
  {
   "cell_type": "code",
   "execution_count": null,
   "metadata": {},
   "outputs": [],
   "source": []
  },
  {
   "cell_type": "markdown",
   "metadata": {},
   "source": [
    "####  Northern Hemisphere - Wind Speed (mph) vs. Latitude Linear Regression"
   ]
  },
  {
   "cell_type": "code",
   "execution_count": null,
   "metadata": {},
   "outputs": [],
   "source": []
  },
  {
   "cell_type": "markdown",
   "metadata": {},
   "source": [
    "####  Southern Hemisphere - Wind Speed (mph) vs. Latitude Linear Regression"
   ]
  },
  {
   "cell_type": "code",
   "execution_count": null,
   "metadata": {},
   "outputs": [],
   "source": []
  },
  {
   "cell_type": "code",
   "execution_count": null,
   "metadata": {},
   "outputs": [],
   "source": []
  }
 ],
 "metadata": {
  "anaconda-cloud": {},
  "kernel_info": {
   "name": "python3"
  },
  "kernelspec": {
   "display_name": "Python 3",
   "language": "python",
   "name": "python3"
  },
  "language_info": {
   "codemirror_mode": {
    "name": "ipython",
    "version": 3
   },
   "file_extension": ".py",
   "mimetype": "text/x-python",
   "name": "python",
   "nbconvert_exporter": "python",
   "pygments_lexer": "ipython3",
   "version": "3.8.5"
  },
  "latex_envs": {
   "LaTeX_envs_menu_present": true,
   "autoclose": false,
   "autocomplete": true,
   "bibliofile": "biblio.bib",
   "cite_by": "apalike",
   "current_citInitial": 1,
   "eqLabelWithNumbers": true,
   "eqNumInitial": 1,
   "hotkeys": {
    "equation": "Ctrl-E",
    "itemize": "Ctrl-I"
   },
   "labels_anchors": false,
   "latex_user_defs": false,
   "report_style_numbering": false,
   "user_envs_cfg": false
  },
  "nteract": {
   "version": "0.12.3"
  }
 },
 "nbformat": 4,
 "nbformat_minor": 2
}
